{
 "cells": [
  {
   "cell_type": "markdown",
   "id": "8dd20d07",
   "metadata": {},
   "source": [
    "# Artificital Neural Network"
   ]
  },
  {
   "cell_type": "markdown",
   "id": "abe638be",
   "metadata": {},
   "source": [
    "## Importing the libary"
   ]
  },
  {
   "cell_type": "code",
   "execution_count": 1,
   "id": "645abbe2",
   "metadata": {},
   "outputs": [],
   "source": [
    "import os\n",
    "import cv2 \n",
    "import numpy as np\n",
    "import matplotlib.pyplot as plt\n",
    "import tensorflow as tf"
   ]
  },
  {
   "cell_type": "markdown",
   "id": "de75a8d5",
   "metadata": {},
   "source": [
    "## Load MNIST dataset"
   ]
  },
  {
   "cell_type": "code",
   "execution_count": 2,
   "id": "200a9416",
   "metadata": {},
   "outputs": [],
   "source": [
    "mnist = tf.keras.datasets.mnist\n",
    "(X_train, y_train), (X_test, y_test) = mnist.load_data()"
   ]
  },
  {
   "cell_type": "markdown",
   "id": "32891163",
   "metadata": {},
   "source": [
    "## Normalize the pixel values"
   ]
  },
  {
   "cell_type": "code",
   "execution_count": 3,
   "id": "4bd7bf91",
   "metadata": {},
   "outputs": [],
   "source": [
    "X_train = tf.keras.utils.normalize(X_train, axis = 1)\n",
    "X_test = tf.keras.utils.normalize(X_test, axis = 1)"
   ]
  },
  {
   "cell_type": "markdown",
   "id": "2e66a0d7",
   "metadata": {},
   "source": [
    "## Building the ANN"
   ]
  },
  {
   "cell_type": "code",
   "execution_count": 4,
   "id": "fad36b89",
   "metadata": {},
   "outputs": [],
   "source": [
    "model = tf.keras.models.Sequential()"
   ]
  },
  {
   "cell_type": "markdown",
   "id": "c6610dc9",
   "metadata": {},
   "source": [
    "## Adding layers"
   ]
  },
  {
   "cell_type": "code",
   "execution_count": 5,
   "id": "8709f674",
   "metadata": {},
   "outputs": [],
   "source": [
    "model.add(tf.keras.layers.Flatten(input_shape = (28, 28)))\n",
    "model.add(tf.keras.layers.Dense(128, activation = 'relu'))\n",
    "model.add(tf.keras.layers.Dense(128, activation = 'relu'))"
   ]
  },
  {
   "cell_type": "markdown",
   "id": "712fa89b",
   "metadata": {},
   "source": [
    "## Adding Output Layer"
   ]
  },
  {
   "cell_type": "code",
   "execution_count": 6,
   "id": "bd0a7a06",
   "metadata": {},
   "outputs": [],
   "source": [
    "model.add(tf.keras.layers.Dense(10, activation = 'softmax'))"
   ]
  },
  {
   "cell_type": "markdown",
   "id": "7d005497",
   "metadata": {},
   "source": [
    "## Compiling the ANN"
   ]
  },
  {
   "cell_type": "code",
   "execution_count": 7,
   "id": "bf5d927c",
   "metadata": {},
   "outputs": [],
   "source": [
    "model.compile(optimizer='adam', loss = 'sparse_categorical_crossentropy', metrics=['accuracy'])"
   ]
  },
  {
   "cell_type": "markdown",
   "id": "555fc11a",
   "metadata": {},
   "source": [
    "## Training the CNN on the Training set "
   ]
  },
  {
   "cell_type": "code",
   "execution_count": 8,
   "id": "9065a64c",
   "metadata": {},
   "outputs": [
    {
     "name": "stdout",
     "output_type": "stream",
     "text": [
      "Epoch 1/3\n",
      "1875/1875 [==============================] - 18s 8ms/step - loss: 0.2658 - accuracy: 0.9222\n",
      "Epoch 2/3\n",
      "1875/1875 [==============================] - 15s 8ms/step - loss: 0.1066 - accuracy: 0.9664\n",
      "Epoch 3/3\n",
      "1875/1875 [==============================] - 15s 8ms/step - loss: 0.0720 - accuracy: 0.9774\n"
     ]
    },
    {
     "data": {
      "text/plain": [
       "<keras.src.callbacks.History at 0x15c7718ddf0>"
      ]
     },
     "execution_count": 8,
     "metadata": {},
     "output_type": "execute_result"
    }
   ],
   "source": [
    "model.fit(X_train, y_train, epochs = 3)"
   ]
  },
  {
   "cell_type": "markdown",
   "id": "925142f2",
   "metadata": {},
   "source": [
    "## Evaluate the model on the test data"
   ]
  },
  {
   "cell_type": "code",
   "execution_count": 10,
   "id": "b42f6956",
   "metadata": {},
   "outputs": [
    {
     "name": "stdout",
     "output_type": "stream",
     "text": [
      "313/313 [==============================] - 2s 4ms/step - loss: 0.0991 - accuracy: 0.9708\n",
      "Loss :  0.10\n",
      "Accuracy :  0.97\n"
     ]
    }
   ],
   "source": [
    "loss, accuracy = model.evaluate(X_test, y_test)\n",
    "print(f\"Loss : {loss : .2f}\\nAccuracy : {accuracy : .2f}\")"
   ]
  },
  {
   "cell_type": "markdown",
   "id": "006ba83d",
   "metadata": {},
   "source": [
    "## My written digit prediction"
   ]
  },
  {
   "cell_type": "code",
   "execution_count": null,
   "id": "72e2a73c",
   "metadata": {},
   "outputs": [],
   "source": [
    "image_number = 12\n",
    "\n",
    "while os.path.isfile(f\"digits/digit{image_number}.png\"):\n",
    "    try:\n",
    "        img = cv2.imread(f\"digits/digit{image_number}.png\")[:,:,0]\n",
    "        img = np.invert(np.array([img]))\n",
    "        pred = model1.predict(img)\n",
    "        plt.imshow(img[0], cmap = plt.cm.binary)\n",
    "        plt.show()\n",
    "        print(f\"This digit is probably a {np.argmax(pred)}\\n\\n\")\n",
    "        plt.pause(1)  # Adjust the time delay as needed\n",
    "    except Exception as e:\n",
    "        print(f\"Error processing image {image_number}: {e}\")\n",
    "    finally:\n",
    "        image_number += 1"
   ]
  }
 ],
 "metadata": {
  "kernelspec": {
   "display_name": "Python 3 (ipykernel)",
   "language": "python",
   "name": "python3"
  },
  "language_info": {
   "codemirror_mode": {
    "name": "ipython",
    "version": 3
   },
   "file_extension": ".py",
   "mimetype": "text/x-python",
   "name": "python",
   "nbconvert_exporter": "python",
   "pygments_lexer": "ipython3",
   "version": "3.9.12"
  }
 },
 "nbformat": 4,
 "nbformat_minor": 5
}
